{
 "metadata": {
  "name": "",
  "signature": "sha256:0ebc88ddd69d8410b53a66b0812a690da9100d9958ff3aa7600798875734d175"
 },
 "nbformat": 3,
 "nbformat_minor": 0,
 "worksheets": [
  {
   "cells": [
    {
     "cell_type": "heading",
     "level": 1,
     "metadata": {},
     "source": [
      "Twitter API Example 8/19/2014 Bryson"
     ]
    },
    {
     "cell_type": "code",
     "collapsed": false,
     "input": [
      "import codecs\n",
      "from datetime import datetime\n",
      "import sys\n",
      "from TwitterAPI import TwitterAPI, TwitterOAuth, TwitterRestPager\n",
      "# SAVE YOUR APPLICATION CREDENTIALS IN TwitterAPI/credentials.txt.\n",
      "o = TwitterOAuth.read_file(\"TwitterAPI/credentials.txt\")\n",
      "api = TwitterAPI(o.consumer_key, o.consumer_secret,o.access_token_key, o.access_token_secret)"
     ],
     "language": "python",
     "metadata": {},
     "outputs": []
    },
    {
     "cell_type": "code",
     "collapsed": false,
     "input": [
      "\n",
      "r = api.request('statuses/update', {'status':'This is a tweet from My App!'})\n",
      "print r.status_code\n"
     ],
     "language": "python",
     "metadata": {},
     "outputs": []
    },
    {
     "cell_type": "code",
     "collapsed": false,
     "input": [
      "try:\n",
      "    # python 3\n",
      "    sys.stdout = codecs.getwriter('utf4')(sys.stdout.buffer)\n",
      "except:\n",
      "    # python 2\n",
      "    sys.stdout = codecs.getwriter('utf8')(sys.stdout)"
     ],
     "language": "python",
     "metadata": {},
     "outputs": []
    },
    {
     "cell_type": "code",
     "collapsed": false,
     "input": [
      "# SAVE YOUR APPLICATION CREDENTIALS IN TwitterAPI/credentials.txt.\n",
      "o = TwitterOAuth.read_file()\n",
      "\n",
      "auth_use = 0\n",
      "try:\n",
      "    if auth_use == 0:\n",
      "            # Using OAuth1...\n",
      "            api = TwitterAPI(\n",
      "            o.consumer_key,\n",
      "            o.consumer_secret,\n",
      "            o.access_token_key,\n",
      "            o.access_token_secret)\n",
      "\n",
      "    if auth_use == 1:\n",
      "        # Using OAuth2...\n",
      "        api = TwitterAPI(o.consumer_key, o.consumer_secret, auth_type=\"oAuth2\")\n",
      "except Exception as e:\n",
      "    print(e)"
     ],
     "language": "python",
     "metadata": {},
     "outputs": []
    },
    {
     "cell_type": "code",
     "collapsed": false,
     "input": [
      "TEST_NUMBER = 0\n",
      "\n",
      "try:\n",
      "    if TEST_NUMBER == 0:\n",
      "\n",
      "        # VERIFY YOUR CREDS\n",
      "        r = api.request('account/verify_credentials')\n",
      "        print(r.text)\n",
      "except Exception as e:\n",
      "    print(e)"
     ],
     "language": "python",
     "metadata": {},
     "outputs": []
    },
    {
     "cell_type": "code",
     "collapsed": false,
     "input": [
      "# POST A TWEET\n",
      "r = api.request('statuses/update',\n",
      "                {'status': 'Actually, I meant to say that Im finally getting\\\n",
      "                getting started into MINING for Gold%s' % datetime.now()})\n",
      "print(r.status_code)\n"
     ],
     "language": "python",
     "metadata": {},
     "outputs": []
    },
    {
     "cell_type": "code",
     "collapsed": false,
     "input": [
      "# GET TWEETS FROM THE PAST WEEK OR SO CONTAINING 'LOVE'\n",
      "pager = TwitterRestPager(api, 'search/tweets', {'q': 'love'})\n",
      "for item in pager.get_iterator():\n",
      "    print(item['text'] if 'text' in item else item)\n"
     ],
     "language": "python",
     "metadata": {},
     "outputs": []
    },
    {
     "cell_type": "code",
     "collapsed": false,
     "input": [
      "sys.stdout = codecs.getwriter('utf-8')(sys.stdout)\n"
     ],
     "language": "python",
     "metadata": {},
     "outputs": []
    },
    {
     "cell_type": "code",
     "collapsed": false,
     "input": [
      "r = api.request('statuses/filter', {'q': \"pizza\"})\n",
      "\n",
      "for item in r:\n",
      "    print(item['text'] if 'text' in item else item)"
     ],
     "language": "python",
     "metadata": {},
     "outputs": []
    },
    {
     "cell_type": "code",
     "collapsed": false,
     "input": [
      "api = TwitterAPI(\n",
      "            o.consumer_key,\n",
      "            o.consumer_secret,\n",
      "            o.access_token_key,\n",
      "            o.access_token_secret,\n",
      "            proxy_url = \"http://default.proxy.alcatel-lucent.com:8000\")\n",
      "r = api.request('application/rate_limit_status')\n",
      "print(r.status_code)\n",
      "j = r.response.json()\n",
      "print(j['resources']['search'])"
     ],
     "language": "python",
     "metadata": {},
     "outputs": []
    },
    {
     "cell_type": "code",
     "collapsed": false,
     "input": [
      "import simplejson\n",
      "import urllib2\n",
      "\n",
      "def search_twitter(quoted_search_term): \n",
      "    url = \"http://search.twitter.com/search.json?&q=%%23%s\" % quoted_search_term\n",
      "    f = urllib2.urlopen(url)\n",
      "    content = f.read()\n",
      "    json = simplejson.loads(content)\n",
      "    return json"
     ],
     "language": "python",
     "metadata": {},
     "outputs": []
    },
    {
     "cell_type": "code",
     "collapsed": false,
     "input": [
      "search_twitter('pizza')"
     ],
     "language": "python",
     "metadata": {},
     "outputs": []
    },
    {
     "cell_type": "code",
     "collapsed": false,
     "input": [],
     "language": "python",
     "metadata": {},
     "outputs": []
    }
   ],
   "metadata": {}
  }
 ]
}