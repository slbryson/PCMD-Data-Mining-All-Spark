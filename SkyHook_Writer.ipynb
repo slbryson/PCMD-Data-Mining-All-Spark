{
 "metadata": {
  "name": ""
 },
 "nbformat": 3,
 "nbformat_minor": 0,
 "worksheets": [
  {
   "cells": [
    {
     "cell_type": "code",
     "collapsed": false,
     "input": [
      "import os\n",
      "import csv\n",
      "import datetime\n",
      "import pyodbc\n",
      "from operator import itemgetter, attrgetter\n",
      "##################################\n",
      "#note the given director is specific to the system where the data files are located.\n",
      "in_dir = r\"/home/slbryson/Projects/PythonProjects/simcity/source/traffic-intensity-map/la6\"\n",
      "\n",
      "tat = 0\n",
      "dset =[[] for x in xrange(0,25)]\n",
      "for path, subdirs, files in os.walk(in_dir):\n",
      " for filename in files:\n",
      "    f = os.path.join(path,filename)\n",
      "    # Careful @ this point the path is specific to the directory which will change\n",
      "    # depending on what system the data files are located.\n",
      "    head,filedate = os.path.split(path)\n",
      "    #print filedate, '\\t', f, filename\n",
      "    ##################################\n",
      "    if filename =='part-r-00000':\n",
      "        ##################################\n",
      "        with open(f, 'rb') as csvfile:\n",
      "            r = csv.reader(csvfile, delimiter='\\t')\n",
      "            # create 9 lists containing the columns of the dataset\n",
      "            date, tileID, hour, count, average_lat, average_long, min_lat, min_long, max_lat, max_long = [\n",
      "            ], [], [], [], [], [], [], [], [], []\n",
      "            #Note there was a correction to the original code to read the correct columns 0-8 vs 0-9\n",
      "            for row in r:\n",
      "                date.append(str(filedate))\n",
      "                tileID.append(str(row[0]))\n",
      "                hour.append(int(row[1]))\n",
      "                count.append(row[2])\n",
      "                average_lat.append(row[3])\n",
      "                average_long.append(row[4])\n",
      "                min_lat.append(row[5])\n",
      "                min_long.append(row[6])\n",
      "                max_lat.append(row[7])\n",
      "                max_long.append(row[8])\n",
      "                #cursor.execute(\"INSERT INTO skyhook VALUES(?,?,?,?,?,?,?,?,?,?)\", (str(date[row]), str(tileID[row]), hour[row], \\\n",
      "                 # count[row], average_lat[row], average_long[row], min_lat[row], min_long[row], max_lat[row], max_long[row]))\n",
      "            print '\\t', \"Number of Entries =\", len(hour), filedate\n",
      "            #we can close the file until the next iteration\n",
      "            csvfile.close()\n",
      "            tat +=1\n",
      "            print tat\n",
      "            dset[tat] = zip(date, tileID, hour, count, average_lat, average_long, min_lat, min_long, max_lat, max_long)\t\n",
      "##################################\n",
      "\n",
      "    #write information\n",
      " "
     ],
     "language": "python",
     "metadata": {},
     "outputs": [
      {
       "output_type": "stream",
       "stream": "stdout",
       "text": [
        "\tNumber of Entries = 48153 2014-02-11\n",
        "1\n",
        "\t"
       ]
      },
      {
       "output_type": "stream",
       "stream": "stdout",
       "text": [
        "Number of Entries = 48649 2014-02-02\n",
        "2\n",
        "\t"
       ]
      },
      {
       "output_type": "stream",
       "stream": "stdout",
       "text": [
        "Number of Entries = 48058 2014-02-13\n",
        "3\n",
        "\t"
       ]
      },
      {
       "output_type": "stream",
       "stream": "stdout",
       "text": [
        "Number of Entries = 63459 2014-02-07\n",
        "4\n",
        "\t"
       ]
      },
      {
       "output_type": "stream",
       "stream": "stdout",
       "text": [
        "Number of Entries = 62785 2014-02-08\n",
        "5\n",
        "\t"
       ]
      },
      {
       "output_type": "stream",
       "stream": "stdout",
       "text": [
        "Number of Entries = 52585 2014-02-05\n",
        "6\n",
        "\t"
       ]
      },
      {
       "output_type": "stream",
       "stream": "stdout",
       "text": [
        "Number of Entries = 53528 2014-02-04\n",
        "7\n",
        "\t"
       ]
      },
      {
       "output_type": "stream",
       "stream": "stdout",
       "text": [
        "Number of Entries = 48023 2014-02-12\n",
        "8\n",
        "\t"
       ]
      },
      {
       "output_type": "stream",
       "stream": "stdout",
       "text": [
        "Number of Entries = 54639 2014-02-09\n",
        "9\n",
        "\t"
       ]
      },
      {
       "output_type": "stream",
       "stream": "stdout",
       "text": [
        "Number of Entries = 53497 2014-02-10\n",
        "10\n",
        "\t"
       ]
      },
      {
       "output_type": "stream",
       "stream": "stdout",
       "text": [
        "Number of Entries = 66549 2014-02-06\n",
        "11\n"
       ]
      }
     ],
     "prompt_number": 74
    },
    {
     "cell_type": "code",
     "collapsed": false,
     "input": [
      "#First open and read Files\n",
      "import os\n",
      "import csv\n",
      "import datetime\n",
      "import pyodbc\n",
      "from operator import itemgetter, attrgetter\n",
      "##################################\n",
      "in_dir = r\"/home/slbryson/Projects/PythonProjects/simcity/source/traffic-intensity-map/la6\"\n",
      "#Next Open database\n",
      "constr =r'DSN=sqlserverdatasource;DRIVER={SQL Server}; DATABASE=wms_kpi;\\\n",
      "uid=slbryson; Pwd=marapr222!;'\n",
      "##################################\n",
      "cnxn = pyodbc.connect(constr)\n",
      "cursor = cnxn.cursor() \n",
      "##################################\n",
      "\n",
      "\n",
      "#Let's do it once first then try it for many:\n",
      "#for sets in range(1, tat+1):\n",
      "for sets in range(8, tat +1):\n",
      "    date, tileID, hour, count, average_lat, average_long, min_lat, min_long, max_lat, max_long = zip(*dset[sets])\n",
      "    print sets, '\\t', date[4], len(hour), type(dset), type(hour), type(str(date)), type(date)\n",
      "    cursor.executemany(\"INSERT INTO skyhook VALUES(?,?,?,?,?,?,?,?,?,?)\", (dset[sets]))\n",
      "    cnxn.commit()\n",
      "cnxn.close()  "
     ],
     "language": "python",
     "metadata": {},
     "outputs": [
      {
       "output_type": "stream",
       "stream": "stdout",
       "text": [
        "8 \t2014-02-12 48023 <type 'list'> <type 'tuple'> <type 'str'> <type 'tuple'>\n",
        "9"
       ]
      },
      {
       "output_type": "stream",
       "stream": "stdout",
       "text": [
        " \t2014-02-09 54639 <type 'list'> <type 'tuple'> <type 'str'> <type 'tuple'>\n",
        "10"
       ]
      },
      {
       "output_type": "stream",
       "stream": "stdout",
       "text": [
        " \t2014-02-10 53497 <type 'list'> <type 'tuple'> <type 'str'> <type 'tuple'>\n",
        "11"
       ]
      },
      {
       "output_type": "stream",
       "stream": "stdout",
       "text": [
        " \t2014-02-06 66549 <type 'list'> <type 'tuple'> <type 'str'> <type 'tuple'>\n"
       ]
      }
     ],
     "prompt_number": 76
    },
    {
     "cell_type": "code",
     "collapsed": false,
     "input": [],
     "language": "python",
     "metadata": {},
     "outputs": []
    },
    {
     "cell_type": "code",
     "collapsed": false,
     "input": [
      "#Now loop and do it again\n",
      "print 'date =', str(date[8]),'\\n', tileID[8], hour[8], count[8], average_lat[8], average_long[8], min_lat[8], min_long[8], max_lat[8], max_long[8] \n",
      "print 'date =', str(date[8]),'\\n', tileID[8], hour[8], count[8], average_lat[8], average_long[8], min_lat[8], min_long[8], max_lat[8], max_long[8] \n",
      "#cursor.executemany(\"INSERT INTO skyhook VALUES(?,?,?,?,?,?,?,?,?,?)\", (date, tileID, hour, \\\n",
      " #         count, average_lat, average_long, min_lat, min_long, max_lat, max_long))"
     ],
     "language": "python",
     "metadata": {},
     "outputs": [
      {
       "output_type": "stream",
       "stream": "stdout",
       "text": [
        "date = 2014-02-03 \n",
        "AD35AF83EE 23 1 33.72249984741211 -118.29830169677734 33.722412109375 -118.29833984375 33.72265625 -118.298095703125\n",
        "date = 2014-02-03 \n",
        "AD35AF83EE 23 1 33.72249984741211 -118.29830169677734 33.722412109375 -118.29833984375 33.72265625 -118.298095703125\n"
       ]
      }
     ],
     "prompt_number": 61
    },
    {
     "cell_type": "code",
     "collapsed": false,
     "input": [
      "import os\n",
      "import csv\n",
      "in_dir = r\"/home/slbryson/Projects/PythonProjects/simcity/source/traffic-intensity-map/la6\"\n",
      "# Test strings to build a name. Probably will not use\n",
      "for path, subdirs, files in os.walk(in_dir):\n",
      " for filename in files:\n",
      "    f = os.path.join(path,filename)\n",
      "    head,filedate = os.path.split(path)\n",
      "    #print filedate, '\\t', f\n",
      "    newsetname = 'dset' +'_'+ filedate\n",
      "    \n",
      "    print newsetname, len(newsetname)\n",
      "type(newsetname), len(dset)"
     ],
     "language": "python",
     "metadata": {},
     "outputs": [
      {
       "output_type": "stream",
       "stream": "stdout",
       "text": [
        "dset_2014-02-03 15\n",
        "dset_2014-02-03 15\n",
        "dset_2014-02-11 15\n",
        "dset_2014-02-11 15\n",
        "dset_2014-02-02 15\n",
        "dset_2014-02-02 15\n",
        "dset_2014-02-13 15\n",
        "dset_2014-02-13 15\n",
        "dset_2014-02-07 15\n",
        "dset_2014-02-07 15\n",
        "dset_2014-02-01 15\n",
        "dset_2014-02-01 15\n",
        "dset_2014-02-08 15\n",
        "dset_2014-02-08 15\n",
        "dset_2014-02-05 15\n",
        "dset_2014-02-05 15\n",
        "dset_2014-02-04 15\n",
        "dset_2014-02-04 15\n",
        "dset_2014-02-12 15\n",
        "dset_2014-02-12 15\n",
        "dset_2014-02-09 15\n",
        "dset_2014-02-09 15\n",
        "dset_2014-02-10"
       ]
      },
      {
       "ename": "NameError",
       "evalue": "name 'dset' is not defined",
       "output_type": "pyerr",
       "traceback": [
        "\u001b[1;31m---------------------------------------------------------------------------\u001b[0m\n\u001b[1;31mNameError\u001b[0m                                 Traceback (most recent call last)",
        "\u001b[1;32m<ipython-input-3-b55128d770f9>\u001b[0m in \u001b[0;36m<module>\u001b[1;34m()\u001b[0m\n\u001b[0;32m     11\u001b[0m \u001b[1;33m\u001b[0m\u001b[0m\n\u001b[0;32m     12\u001b[0m     \u001b[1;32mprint\u001b[0m \u001b[0mnewsetname\u001b[0m\u001b[1;33m,\u001b[0m \u001b[0mlen\u001b[0m\u001b[1;33m(\u001b[0m\u001b[0mnewsetname\u001b[0m\u001b[1;33m)\u001b[0m\u001b[1;33m\u001b[0m\u001b[0m\n\u001b[1;32m---> 13\u001b[1;33m \u001b[0mtype\u001b[0m\u001b[1;33m(\u001b[0m\u001b[0mnewsetname\u001b[0m\u001b[1;33m)\u001b[0m\u001b[1;33m,\u001b[0m \u001b[0mlen\u001b[0m\u001b[1;33m(\u001b[0m\u001b[0mdset\u001b[0m\u001b[1;33m)\u001b[0m\u001b[1;33m\u001b[0m\u001b[0m\n\u001b[0m",
        "\u001b[1;31mNameError\u001b[0m: name 'dset' is not defined"
       ]
      },
      {
       "output_type": "stream",
       "stream": "stdout",
       "text": [
        " 15\n",
        "dset_2014-02-10 15\n",
        "dset_2014-02-06 15\n",
        "dset_2014-02-06 15\n"
       ]
      }
     ],
     "prompt_number": 3
    },
    {
     "cell_type": "code",
     "collapsed": false,
     "input": [
      "for rows in range(len(hour)):\n",
      "    cursor.execute(\"INSERT INTO skyhook VALUES(?,?,?,?,?,?,?,?,?,?)\", (str(date[rows]), str(tileID[rows]), hour[rows], \\\n",
      "          count[rows], average_lat[rows], average_long[rows], min_lat[rows], min_long[rows], max_lat[rows], max_long[rows]))\n",
      "\n",
      "\n",
      "cnxn.commit()\n",
      "cnxn.close()  \n",
      "        "
     ],
     "language": "python",
     "metadata": {},
     "outputs": []
    },
    {
     "cell_type": "code",
     "collapsed": false,
     "input": [],
     "language": "python",
     "metadata": {},
     "outputs": [],
     "prompt_number": 60
    },
    {
     "cell_type": "code",
     "collapsed": false,
     "input": [],
     "language": "python",
     "metadata": {},
     "outputs": []
    }
   ],
   "metadata": {}
  }
 ]
}